{
 "cells": [
  {
   "cell_type": "markdown",
   "metadata": {},
   "source": [
    "S(n)\n",
    "A\n",
    "ABA\n",
    "ABACABA\n",
    "ABACABADABACABA\n",
    "ABACABADABACABAEABACABADABACABA\n",
    "\n",
    "S(i) = \n",
    "    if  i = j = (dau+cuoi)/2 => 1=A, 2=B, ... (mapping A-Z)\n",
    "        i < j = S(n-1) (De. quy)\n",
    "        i > j <=> j = i + n <=> j = i - n => S(i-n-1) (De. quy)"
   ]
  },
  {
   "cell_type": "code",
   "execution_count": null,
   "metadata": {},
   "outputs": [],
   "source": [
    "def find_kth_character(n, k):\n",
    "    if k == (1 << (n - 1)):\n",
    "        return chr(ord('A') + n - 1)\n",
    "    elif k < (1 << (n - 1)):\n",
    "        return find_kth_character(n - 1, k)\n",
    "    else: \n",
    "        return find_kth_character(n - 1, k - (1 << (n - 1)))"
   ]
  }
 ],
 "metadata": {
  "kernelspec": {
   "display_name": "Python 3",
   "language": "python",
   "name": "python3"
  },
  "language_info": {
   "name": "python",
   "version": "3.11.5"
  }
 },
 "nbformat": 4,
 "nbformat_minor": 2
}
